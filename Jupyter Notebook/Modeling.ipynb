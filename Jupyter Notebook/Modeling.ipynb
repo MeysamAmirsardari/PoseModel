{
  "nbformat": 4,
  "nbformat_minor": 0,
  "metadata": {
    "colab": {
      "provenance": []
    },
    "kernelspec": {
      "name": "python3",
      "display_name": "Python 3"
    },
    "language_info": {
      "name": "python"
    }
  },
  "cells": [
    {
      "cell_type": "markdown",
      "source": [
        "# Installations:"
      ],
      "metadata": {
        "id": "sBWTNszZrFD7"
      }
    },
    {
      "cell_type": "code",
      "source": [
        "!pip install -q torch-scatter -f https://data.pyg.org/whl/torch-1.10.0+cu113.html\n",
        "!pip install -q torch-sparse -f https://data.pyg.org/whl/torch-1.10.0+cu113.html\n",
        "!pip install -q git+https://github.com/pyg-team/pytorch_geometric.git"
      ],
      "metadata": {
        "colab": {
          "base_uri": "https://localhost:8080/"
        },
        "id": "aBy_gimR5BUl",
        "outputId": "36b6baec-fcb1-4082-9fe5-a99afd74ccb1"
      },
      "execution_count": null,
      "outputs": [
        {
          "output_type": "stream",
          "name": "stdout",
          "text": [
            "\u001b[?25l     \u001b[90m━━━━━━━━━━━━━━━━━━━━━━━━━━━━━━━━━━━━━━━━\u001b[0m \u001b[32m0.0/106.8 KB\u001b[0m \u001b[31m?\u001b[0m eta \u001b[36m-:--:--\u001b[0m\r\u001b[2K     \u001b[90m━━━━━━━━━━━━━━━━━━━━━━━━━━━━━━━━━━━━━━━\u001b[0m \u001b[32m106.8/106.8 KB\u001b[0m \u001b[31m3.2 MB/s\u001b[0m eta \u001b[36m0:00:00\u001b[0m\n",
            "\u001b[?25h  Preparing metadata (setup.py) ... \u001b[?25l\u001b[?25hdone\n",
            "  Building wheel for torch-scatter (setup.py) ... \u001b[?25l\u001b[?25hdone\n",
            "\u001b[2K     \u001b[90m━━━━━━━━━━━━━━━━━━━━━━━━━━━━━━━━━━━━━━━\u001b[0m \u001b[32m208.2/208.2 KB\u001b[0m \u001b[31m7.5 MB/s\u001b[0m eta \u001b[36m0:00:00\u001b[0m\n",
            "\u001b[?25h  Preparing metadata (setup.py) ... \u001b[?25l\u001b[?25hdone\n",
            "  Building wheel for torch-sparse (setup.py) ... \u001b[?25l\u001b[?25hdone\n",
            "  Installing build dependencies ... \u001b[?25l\u001b[?25hdone\n",
            "  Getting requirements to build wheel ... \u001b[?25l\u001b[?25hdone\n",
            "  Preparing metadata (pyproject.toml) ... \u001b[?25l\u001b[?25hdone\n",
            "\u001b[2K     \u001b[90m━━━━━━━━━━━━━━━━━━━━━━━━━━━━━━━━━━━━━━━\u001b[0m \u001b[32m280.2/280.2 KB\u001b[0m \u001b[31m9.2 MB/s\u001b[0m eta \u001b[36m0:00:00\u001b[0m\n",
            "\u001b[?25h  Building wheel for torch-geometric (pyproject.toml) ... \u001b[?25l\u001b[?25hdone\n"
          ]
        }
      ]
    },
    {
      "cell_type": "code",
      "source": [
        "!pip install utils"
      ],
      "metadata": {
        "colab": {
          "base_uri": "https://localhost:8080/"
        },
        "id": "Z4CQLDsUmEMi",
        "outputId": "55be83da-63f4-4db1-f0a4-bfc64b50a28f"
      },
      "execution_count": null,
      "outputs": [
        {
          "output_type": "stream",
          "name": "stdout",
          "text": [
            "Looking in indexes: https://pypi.org/simple, https://us-python.pkg.dev/colab-wheels/public/simple/\n",
            "Collecting utils\n",
            "  Downloading utils-1.0.1-py2.py3-none-any.whl (21 kB)\n",
            "Installing collected packages: utils\n",
            "Successfully installed utils-1.0.1\n"
          ]
        }
      ]
    },
    {
      "cell_type": "markdown",
      "source": [
        "# Imports:"
      ],
      "metadata": {
        "id": "iII41_arrNfg"
      }
    },
    {
      "cell_type": "code",
      "source": [
        "import pandas as pd\n",
        "\n",
        "import torch_geometric\n",
        "import numpy as np\n",
        "import torch\n",
        "import torch_geometric.datasets as datasets\n",
        "import torch_geometric.data as Data\n",
        "import torch_geometric.transforms as transforms\n",
        "import networkx as nx\n",
        "from torch_geometric.utils.convert import to_networkx\n",
        "#from torch_geometric.data import HeteroData"
      ],
      "metadata": {
        "id": "Ffvm4yhWrEPs"
      },
      "execution_count": null,
      "outputs": []
    },
    {
      "cell_type": "markdown",
      "source": [
        "# Loading the data:"
      ],
      "metadata": {
        "id": "y8e24aV8rSlx"
      }
    },
    {
      "cell_type": "code",
      "source": [
        "path = '/content/drive/MyDrive/Test.csv'\n",
        "\n",
        "df = pd.read_csv(path, index_col=None, header=0, encoding=\"utf-8\")\n",
        "temp = df.head(1).values.tolist()[0]\n",
        "labels = []\n",
        "for i in range(1, 54, 3):\n",
        "  labels.append(temp[i])\n",
        "\n",
        "df = pd.read_csv(path, index_col=None, header=1, encoding=\"utf-8\")"
      ],
      "metadata": {
        "colab": {
          "base_uri": "https://localhost:8080/"
        },
        "id": "bDo-xD0ErEwY",
        "outputId": "07b0fcd9-6ff2-445e-d89b-01a4e4302d19"
      },
      "execution_count": null,
      "outputs": [
        {
          "output_type": "stream",
          "name": "stderr",
          "text": [
            "<ipython-input-3-06a85721056a>:3: DtypeWarning: Columns (0,1,2,3,4,5,6,7,8,9,10,11,12,13,14,15,16,17,18,19,20,21,22,23,24,25,26,27,28,29,30,31,32,33,34,35,36,37,38,39,40,41,42,43,44,45,46,47,48,49,50,51,52,53,54) have mixed types. Specify dtype option on import or set low_memory=False.\n",
            "  df = pd.read_csv(path, index_col=None, header=0, encoding=\"utf-8\")\n",
            "<ipython-input-3-06a85721056a>:9: DtypeWarning: Columns (0,1,2,3,4,5,6,7,8,9,10,11,12,13,14,15,16,17,18,19,20,21,22,23,24,25,26,27,28,29,30,31,32,33,34,35,36,37,38,39,40,41,42,43,44,45,46,47,48,49,50,51,52,53,54) have mixed types. Specify dtype option on import or set low_memory=False.\n",
            "  df = pd.read_csv(path, index_col=None, header=1, encoding=\"utf-8\")\n"
          ]
        }
      ]
    },
    {
      "cell_type": "code",
      "source": [
        "Xs = []\n",
        "Ys = []\n",
        "CLs = []\n",
        "\n",
        "for l in labels:\n",
        "  Xs.append(df[l].values.tolist()[1:])\n",
        "  Ys.append(df[l+'.1'].values.tolist()[1:])\n",
        "  CLs.append(df[l+'.2'].values.tolist()[1:])"
      ],
      "metadata": {
        "id": "-7jE1ZN34Z3g"
      },
      "execution_count": null,
      "outputs": []
    },
    {
      "cell_type": "code",
      "source": [
        "node_mapping = dict()\n",
        "\n",
        "for idx, lab in enumerate(labels):\n",
        "  node_mapping['lab'] = idx"
      ],
      "metadata": {
        "id": "ARMLx0RBllVW"
      },
      "execution_count": null,
      "outputs": []
    },
    {
      "cell_type": "markdown",
      "source": [
        "# Modeling the graph:"
      ],
      "metadata": {
        "id": "VBSHpFtErXtF"
      }
    },
    {
      "cell_type": "code",
      "source": [
        "def set_edges(epoch_len, land_mark_num, encoders=None):\n",
        "    src = []\n",
        "    dst = []\n",
        "\n",
        "    for n in range(epoch_len):\n",
        "      for i in range(land_mark_num):\n",
        "        src.append(n*land_mark_num + i)\n",
        "        dst.append(n*land_mark_num + i + land_mark_num)\n",
        "\n",
        "      for i in range(land_mark_num):\n",
        "        for j in range(land_mark_num):\n",
        "          if i != j:\n",
        "            src.append(i + n*land_mark_num)\n",
        "            dst.append(j + n*land_mark_num)\n",
        "\n",
        "    edge_index = torch.tensor([src, dst])\n",
        "\n",
        "    edge_attr = None\n",
        "    # if encoders is not None:\n",
        "    #     edge_attrs = [encoder(df[col]) for col, encoder in encoders.items()]\n",
        "    #     edge_attr = torch.cat(edge_attrs, dim=-1)\n",
        "\n",
        "    return edge_index, edge_attr"
      ],
      "metadata": {
        "id": "Qs452V7slF7k"
      },
      "execution_count": null,
      "outputs": []
    },
    {
      "cell_type": "code",
      "source": [
        "def set_nodes(Xs, Ys, CLs, off_idx, land_mark_num, epoch_len, encoders=None):\n",
        "  x = torch.tensor([])\n",
        "\n",
        "  for n in range(epoch_len):\n",
        "    for i in range(land_mark_num):\n",
        "      step = torch.tensor([[float(Xs[i][n + off_idx])], \n",
        "                           [float(Ys[i][n + off_idx])], \n",
        "                           [float(CLs[i][n + off_idx])]], \n",
        "                          dtype=torch.float)\n",
        "      x = torch.cat((x, step.T), dim=0)\n",
        "  return x"
      ],
      "metadata": {
        "id": "fk5z2hqeyph1"
      },
      "execution_count": null,
      "outputs": []
    },
    {
      "cell_type": "code",
      "source": [
        "num_landmarks = 18\n",
        "num_layers = 120\n",
        "edge_index = []\n",
        "\n",
        "# Connect each landmark to all other landmarks in the same layer\n",
        "for layer in range(num_layers):\n",
        "    start = layer * num_landmarks\n",
        "    layer_edges = [(i, j) for i in range(start, start + num_landmarks) for j in range(start, start + num_landmarks) if i != j]\n",
        "    layer_edges = [[edge[0], edge[1]] for edge in layer_edges]\n",
        "    edge_index.extend(layer_edges)\n",
        "\n",
        "# Connect each landmark to the same landmark in the next layer\n",
        "for layer in range(num_layers - 1):\n",
        "    start1 = layer * num_landmarks\n",
        "    start2 = (layer + 1) * num_landmarks\n",
        "    layer_edges = [[i, j] for i in range(start1, start1 + num_landmarks) for j in range(start2, start2 + num_landmarks) if i % num_landmarks == j % num_landmarks]\n",
        "    edge_index.extend(layer_edges)\n",
        "    \n",
        "edge_index = torch.tensor(edge_index).t().contiguous()\n"
      ],
      "metadata": {
        "id": "y_vrHmdC2k42"
      },
      "execution_count": null,
      "outputs": []
    },
    {
      "cell_type": "code",
      "source": [
        "from torch_geometric.data import Data\n",
        "\n",
        "epoch_len = 120\n",
        "land_mark_num = 18\n",
        "len = df.shape[0]-1\n",
        "overlap = 0.5\n",
        "graph_list = []\n",
        "order = []\n",
        "count = 0\n",
        "step = int(epoch_len*(1-overlap))\n",
        "\n",
        "#edge_index, edge_attr = set_edges(epoch_len, land_mark_num)\n",
        "\n",
        "for i in range(1, len+1-2*step, step):\n",
        "  x = set_nodes(Xs, Ys, CLs, i, land_mark_num, epoch_len)\n",
        "  data = Data(x=x, edge_index=edge_index)\n",
        "  graph_list.append(data)\n",
        "  count = count + 1\n",
        "  order.append((count, i))"
      ],
      "metadata": {
        "id": "pAAUWjeT0Ybg"
      },
      "execution_count": null,
      "outputs": []
    },
    {
      "cell_type": "markdown",
      "source": [
        "* **Create and save the dataset:**"
      ],
      "metadata": {
        "id": "7xQZ3Lm_85c-"
      }
    },
    {
      "cell_type": "code",
      "source": [
        "from torch_geometric.data import Data\n",
        "from torch_geometric.loader import DataLoader\n",
        "\n",
        "loader = DataLoader(graph_list, batch_size=16)\n",
        "torch.save(loader, '/content/drive/MyDrive/Test_loader.pth')\n",
        "\n",
        "pd.DataFrame(order).to_csv('/content/drive/MyDrive/order.csv')"
      ],
      "metadata": {
        "id": "qECgAM-e8msC"
      },
      "execution_count": null,
      "outputs": []
    },
    {
      "cell_type": "code",
      "source": [
        "from torch_geometric.data import Data, DataLoader, InMemoryDataset\n",
        "\n",
        "dataset = InMemoryDataset(root='/content/', transform=None)\n",
        "dataset.data = graph_list\n",
        "dataset.index_select = None\n",
        "\n",
        "# Save the dataset to disk\n",
        "torch.save(dataset, './dataset.pt')\n",
        "\n",
        "# Load the dataset from disk\n",
        "dataset2 = torch.load('./dataset.pt')\n",
        "\n",
        "# Print the first data object in the dataset\n",
        "print(dataset2[0])"
      ],
      "metadata": {
        "colab": {
          "base_uri": "https://localhost:8080/"
        },
        "id": "6d3U5yUuefay",
        "outputId": "530cae2d-67c7-4595-8aa2-da711ef7700d"
      },
      "execution_count": null,
      "outputs": [
        {
          "output_type": "stream",
          "name": "stdout",
          "text": [
            "[Data(x=[2160, 3], edge_index=[2, 38862]), Data(x=[2160, 3], edge_index=[2, 38862]), Data(x=[2160, 3], edge_index=[2, 38862]), Data(x=[2160, 3], edge_index=[2, 38862]), Data(x=[2160, 3], edge_index=[2, 38862]), Data(x=[2160, 3], edge_index=[2, 38862]), Data(x=[2160, 3], edge_index=[2, 38862]), Data(x=[2160, 3], edge_index=[2, 38862]), Data(x=[2160, 3], edge_index=[2, 38862]), Data(x=[2160, 3], edge_index=[2, 38862]), Data(x=[2160, 3], edge_index=[2, 38862]), Data(x=[2160, 3], edge_index=[2, 38862]), Data(x=[2160, 3], edge_index=[2, 38862]), Data(x=[2160, 3], edge_index=[2, 38862]), Data(x=[2160, 3], edge_index=[2, 38862]), Data(x=[2160, 3], edge_index=[2, 38862]), Data(x=[2160, 3], edge_index=[2, 38862]), Data(x=[2160, 3], edge_index=[2, 38862]), Data(x=[2160, 3], edge_index=[2, 38862]), Data(x=[2160, 3], edge_index=[2, 38862]), Data(x=[2160, 3], edge_index=[2, 38862]), Data(x=[2160, 3], edge_index=[2, 38862]), Data(x=[2160, 3], edge_index=[2, 38862]), Data(x=[2160, 3], edge_index=[2, 38862]), Data(x=[2160, 3], edge_index=[2, 38862]), Data(x=[2160, 3], edge_index=[2, 38862]), Data(x=[2160, 3], edge_index=[2, 38862]), Data(x=[2160, 3], edge_index=[2, 38862]), Data(x=[2160, 3], edge_index=[2, 38862]), Data(x=[2160, 3], edge_index=[2, 38862]), Data(x=[2160, 3], edge_index=[2, 38862]), Data(x=[2160, 3], edge_index=[2, 38862]), Data(x=[2160, 3], edge_index=[2, 38862]), Data(x=[2160, 3], edge_index=[2, 38862]), Data(x=[2160, 3], edge_index=[2, 38862]), Data(x=[2160, 3], edge_index=[2, 38862]), Data(x=[2160, 3], edge_index=[2, 38862]), Data(x=[2160, 3], edge_index=[2, 38862]), Data(x=[2160, 3], edge_index=[2, 38862]), Data(x=[2160, 3], edge_index=[2, 38862]), Data(x=[2160, 3], edge_index=[2, 38862]), Data(x=[2160, 3], edge_index=[2, 38862]), Data(x=[2160, 3], edge_index=[2, 38862]), Data(x=[2160, 3], edge_index=[2, 38862]), Data(x=[2160, 3], edge_index=[2, 38862]), Data(x=[2160, 3], edge_index=[2, 38862]), Data(x=[2160, 3], edge_index=[2, 38862]), Data(x=[2160, 3], edge_index=[2, 38862]), Data(x=[2160, 3], edge_index=[2, 38862]), Data(x=[2160, 3], edge_index=[2, 38862]), Data(x=[2160, 3], edge_index=[2, 38862]), Data(x=[2160, 3], edge_index=[2, 38862]), Data(x=[2160, 3], edge_index=[2, 38862]), Data(x=[2160, 3], edge_index=[2, 38862]), Data(x=[2160, 3], edge_index=[2, 38862]), Data(x=[2160, 3], edge_index=[2, 38862]), Data(x=[2160, 3], edge_index=[2, 38862]), Data(x=[2160, 3], edge_index=[2, 38862]), Data(x=[2160, 3], edge_index=[2, 38862]), Data(x=[2160, 3], edge_index=[2, 38862]), Data(x=[2160, 3], edge_index=[2, 38862]), Data(x=[2160, 3], edge_index=[2, 38862]), Data(x=[2160, 3], edge_index=[2, 38862]), Data(x=[2160, 3], edge_index=[2, 38862]), Data(x=[2160, 3], edge_index=[2, 38862]), Data(x=[2160, 3], edge_index=[2, 38862]), Data(x=[2160, 3], edge_index=[2, 38862]), Data(x=[2160, 3], edge_index=[2, 38862]), Data(x=[2160, 3], edge_index=[2, 38862]), Data(x=[2160, 3], edge_index=[2, 38862]), Data(x=[2160, 3], edge_index=[2, 38862]), Data(x=[2160, 3], edge_index=[2, 38862]), Data(x=[2160, 3], edge_index=[2, 38862]), Data(x=[2160, 3], edge_index=[2, 38862]), Data(x=[2160, 3], edge_index=[2, 38862]), Data(x=[2160, 3], edge_index=[2, 38862]), Data(x=[2160, 3], edge_index=[2, 38862]), Data(x=[2160, 3], edge_index=[2, 38862]), Data(x=[2160, 3], edge_index=[2, 38862]), Data(x=[2160, 3], edge_index=[2, 38862]), Data(x=[2160, 3], edge_index=[2, 38862]), Data(x=[2160, 3], edge_index=[2, 38862]), Data(x=[2160, 3], edge_index=[2, 38862]), Data(x=[2160, 3], edge_index=[2, 38862]), Data(x=[2160, 3], edge_index=[2, 38862]), Data(x=[2160, 3], edge_index=[2, 38862]), Data(x=[2160, 3], edge_index=[2, 38862]), Data(x=[2160, 3], edge_index=[2, 38862]), Data(x=[2160, 3], edge_index=[2, 38862]), Data(x=[2160, 3], edge_index=[2, 38862]), Data(x=[2160, 3], edge_index=[2, 38862]), Data(x=[2160, 3], edge_index=[2, 38862]), Data(x=[2160, 3], edge_index=[2, 38862]), Data(x=[2160, 3], edge_index=[2, 38862]), Data(x=[2160, 3], edge_index=[2, 38862]), Data(x=[2160, 3], edge_index=[2, 38862]), Data(x=[2160, 3], edge_index=[2, 38862]), Data(x=[2160, 3], edge_index=[2, 38862]), Data(x=[2160, 3], edge_index=[2, 38862]), Data(x=[2160, 3], edge_index=[2, 38862]), Data(x=[2160, 3], edge_index=[2, 38862]), Data(x=[2160, 3], edge_index=[2, 38862]), Data(x=[2160, 3], edge_index=[2, 38862]), Data(x=[2160, 3], edge_index=[2, 38862]), Data(x=[2160, 3], edge_index=[2, 38862]), Data(x=[2160, 3], edge_index=[2, 38862]), Data(x=[2160, 3], edge_index=[2, 38862]), Data(x=[2160, 3], edge_index=[2, 38862]), Data(x=[2160, 3], edge_index=[2, 38862]), Data(x=[2160, 3], edge_index=[2, 38862]), Data(x=[2160, 3], edge_index=[2, 38862]), Data(x=[2160, 3], edge_index=[2, 38862]), Data(x=[2160, 3], edge_index=[2, 38862]), Data(x=[2160, 3], edge_index=[2, 38862]), Data(x=[2160, 3], edge_index=[2, 38862]), Data(x=[2160, 3], edge_index=[2, 38862]), Data(x=[2160, 3], edge_index=[2, 38862]), Data(x=[2160, 3], edge_index=[2, 38862]), Data(x=[2160, 3], edge_index=[2, 38862]), Data(x=[2160, 3], edge_index=[2, 38862]), Data(x=[2160, 3], edge_index=[2, 38862]), Data(x=[2160, 3], edge_index=[2, 38862]), Data(x=[2160, 3], edge_index=[2, 38862]), Data(x=[2160, 3], edge_index=[2, 38862]), Data(x=[2160, 3], edge_index=[2, 38862]), Data(x=[2160, 3], edge_index=[2, 38862]), Data(x=[2160, 3], edge_index=[2, 38862]), Data(x=[2160, 3], edge_index=[2, 38862]), Data(x=[2160, 3], edge_index=[2, 38862]), Data(x=[2160, 3], edge_index=[2, 38862]), Data(x=[2160, 3], edge_index=[2, 38862]), Data(x=[2160, 3], edge_index=[2, 38862]), Data(x=[2160, 3], edge_index=[2, 38862]), Data(x=[2160, 3], edge_index=[2, 38862]), Data(x=[2160, 3], edge_index=[2, 38862]), Data(x=[2160, 3], edge_index=[2, 38862]), Data(x=[2160, 3], edge_index=[2, 38862]), Data(x=[2160, 3], edge_index=[2, 38862]), Data(x=[2160, 3], edge_index=[2, 38862]), Data(x=[2160, 3], edge_index=[2, 38862]), Data(x=[2160, 3], edge_index=[2, 38862]), Data(x=[2160, 3], edge_index=[2, 38862]), Data(x=[2160, 3], edge_index=[2, 38862]), Data(x=[2160, 3], edge_index=[2, 38862]), Data(x=[2160, 3], edge_index=[2, 38862]), Data(x=[2160, 3], edge_index=[2, 38862]), Data(x=[2160, 3], edge_index=[2, 38862]), Data(x=[2160, 3], edge_index=[2, 38862]), Data(x=[2160, 3], edge_index=[2, 38862]), Data(x=[2160, 3], edge_index=[2, 38862]), Data(x=[2160, 3], edge_index=[2, 38862]), Data(x=[2160, 3], edge_index=[2, 38862]), Data(x=[2160, 3], edge_index=[2, 38862]), Data(x=[2160, 3], edge_index=[2, 38862]), Data(x=[2160, 3], edge_index=[2, 38862]), Data(x=[2160, 3], edge_index=[2, 38862]), Data(x=[2160, 3], edge_index=[2, 38862]), Data(x=[2160, 3], edge_index=[2, 38862]), Data(x=[2160, 3], edge_index=[2, 38862]), Data(x=[2160, 3], edge_index=[2, 38862]), Data(x=[2160, 3], edge_index=[2, 38862]), Data(x=[2160, 3], edge_index=[2, 38862]), Data(x=[2160, 3], edge_index=[2, 38862]), Data(x=[2160, 3], edge_index=[2, 38862]), Data(x=[2160, 3], edge_index=[2, 38862]), Data(x=[2160, 3], edge_index=[2, 38862]), Data(x=[2160, 3], edge_index=[2, 38862]), Data(x=[2160, 3], edge_index=[2, 38862]), Data(x=[2160, 3], edge_index=[2, 38862]), Data(x=[2160, 3], edge_index=[2, 38862]), Data(x=[2160, 3], edge_index=[2, 38862]), Data(x=[2160, 3], edge_index=[2, 38862]), Data(x=[2160, 3], edge_index=[2, 38862]), Data(x=[2160, 3], edge_index=[2, 38862]), Data(x=[2160, 3], edge_index=[2, 38862]), Data(x=[2160, 3], edge_index=[2, 38862]), Data(x=[2160, 3], edge_index=[2, 38862]), Data(x=[2160, 3], edge_index=[2, 38862]), Data(x=[2160, 3], edge_index=[2, 38862]), Data(x=[2160, 3], edge_index=[2, 38862]), Data(x=[2160, 3], edge_index=[2, 38862]), Data(x=[2160, 3], edge_index=[2, 38862]), Data(x=[2160, 3], edge_index=[2, 38862]), Data(x=[2160, 3], edge_index=[2, 38862]), Data(x=[2160, 3], edge_index=[2, 38862]), Data(x=[2160, 3], edge_index=[2, 38862]), Data(x=[2160, 3], edge_index=[2, 38862]), Data(x=[2160, 3], edge_index=[2, 38862]), Data(x=[2160, 3], edge_index=[2, 38862]), Data(x=[2160, 3], edge_index=[2, 38862]), Data(x=[2160, 3], edge_index=[2, 38862]), Data(x=[2160, 3], edge_index=[2, 38862]), Data(x=[2160, 3], edge_index=[2, 38862]), Data(x=[2160, 3], edge_index=[2, 38862]), Data(x=[2160, 3], edge_index=[2, 38862]), Data(x=[2160, 3], edge_index=[2, 38862]), Data(x=[2160, 3], edge_index=[2, 38862]), Data(x=[2160, 3], edge_index=[2, 38862]), Data(x=[2160, 3], edge_index=[2, 38862]), Data(x=[2160, 3], edge_index=[2, 38862]), Data(x=[2160, 3], edge_index=[2, 38862]), Data(x=[2160, 3], edge_index=[2, 38862]), Data(x=[2160, 3], edge_index=[2, 38862]), Data(x=[2160, 3], edge_index=[2, 38862]), Data(x=[2160, 3], edge_index=[2, 38862]), Data(x=[2160, 3], edge_index=[2, 38862]), Data(x=[2160, 3], edge_index=[2, 38862]), Data(x=[2160, 3], edge_index=[2, 38862]), Data(x=[2160, 3], edge_index=[2, 38862]), Data(x=[2160, 3], edge_index=[2, 38862]), Data(x=[2160, 3], edge_index=[2, 38862]), Data(x=[2160, 3], edge_index=[2, 38862]), Data(x=[2160, 3], edge_index=[2, 38862]), Data(x=[2160, 3], edge_index=[2, 38862]), Data(x=[2160, 3], edge_index=[2, 38862]), Data(x=[2160, 3], edge_index=[2, 38862]), Data(x=[2160, 3], edge_index=[2, 38862]), Data(x=[2160, 3], edge_index=[2, 38862]), Data(x=[2160, 3], edge_index=[2, 38862]), Data(x=[2160, 3], edge_index=[2, 38862]), Data(x=[2160, 3], edge_index=[2, 38862]), Data(x=[2160, 3], edge_index=[2, 38862]), Data(x=[2160, 3], edge_index=[2, 38862]), Data(x=[2160, 3], edge_index=[2, 38862]), Data(x=[2160, 3], edge_index=[2, 38862]), Data(x=[2160, 3], edge_index=[2, 38862]), Data(x=[2160, 3], edge_index=[2, 38862]), Data(x=[2160, 3], edge_index=[2, 38862]), Data(x=[2160, 3], edge_index=[2, 38862]), Data(x=[2160, 3], edge_index=[2, 38862]), Data(x=[2160, 3], edge_index=[2, 38862]), Data(x=[2160, 3], edge_index=[2, 38862]), Data(x=[2160, 3], edge_index=[2, 38862]), Data(x=[2160, 3], edge_index=[2, 38862]), Data(x=[2160, 3], edge_index=[2, 38862]), Data(x=[2160, 3], edge_index=[2, 38862]), Data(x=[2160, 3], edge_index=[2, 38862]), Data(x=[2160, 3], edge_index=[2, 38862]), Data(x=[2160, 3], edge_index=[2, 38862]), Data(x=[2160, 3], edge_index=[2, 38862]), Data(x=[2160, 3], edge_index=[2, 38862]), Data(x=[2160, 3], edge_index=[2, 38862]), Data(x=[2160, 3], edge_index=[2, 38862]), Data(x=[2160, 3], edge_index=[2, 38862]), Data(x=[2160, 3], edge_index=[2, 38862]), Data(x=[2160, 3], edge_index=[2, 38862]), Data(x=[2160, 3], edge_index=[2, 38862]), Data(x=[2160, 3], edge_index=[2, 38862]), Data(x=[2160, 3], edge_index=[2, 38862]), Data(x=[2160, 3], edge_index=[2, 38862]), Data(x=[2160, 3], edge_index=[2, 38862]), Data(x=[2160, 3], edge_index=[2, 38862]), Data(x=[2160, 3], edge_index=[2, 38862]), Data(x=[2160, 3], edge_index=[2, 38862]), Data(x=[2160, 3], edge_index=[2, 38862]), Data(x=[2160, 3], edge_index=[2, 38862]), Data(x=[2160, 3], edge_index=[2, 38862]), Data(x=[2160, 3], edge_index=[2, 38862]), Data(x=[2160, 3], edge_index=[2, 38862]), Data(x=[2160, 3], edge_index=[2, 38862]), Data(x=[2160, 3], edge_index=[2, 38862]), Data(x=[2160, 3], edge_index=[2, 38862]), Data(x=[2160, 3], edge_index=[2, 38862]), Data(x=[2160, 3], edge_index=[2, 38862]), Data(x=[2160, 3], edge_index=[2, 38862]), Data(x=[2160, 3], edge_index=[2, 38862]), Data(x=[2160, 3], edge_index=[2, 38862]), Data(x=[2160, 3], edge_index=[2, 38862]), Data(x=[2160, 3], edge_index=[2, 38862]), Data(x=[2160, 3], edge_index=[2, 38862]), Data(x=[2160, 3], edge_index=[2, 38862]), Data(x=[2160, 3], edge_index=[2, 38862]), Data(x=[2160, 3], edge_index=[2, 38862]), Data(x=[2160, 3], edge_index=[2, 38862]), Data(x=[2160, 3], edge_index=[2, 38862]), Data(x=[2160, 3], edge_index=[2, 38862]), Data(x=[2160, 3], edge_index=[2, 38862]), Data(x=[2160, 3], edge_index=[2, 38862]), Data(x=[2160, 3], edge_index=[2, 38862]), Data(x=[2160, 3], edge_index=[2, 38862]), Data(x=[2160, 3], edge_index=[2, 38862]), Data(x=[2160, 3], edge_index=[2, 38862]), Data(x=[2160, 3], edge_index=[2, 38862]), Data(x=[2160, 3], edge_index=[2, 38862]), Data(x=[2160, 3], edge_index=[2, 38862]), Data(x=[2160, 3], edge_index=[2, 38862]), Data(x=[2160, 3], edge_index=[2, 38862]), Data(x=[2160, 3], edge_index=[2, 38862]), Data(x=[2160, 3], edge_index=[2, 38862]), Data(x=[2160, 3], edge_index=[2, 38862]), Data(x=[2160, 3], edge_index=[2, 38862]), Data(x=[2160, 3], edge_index=[2, 38862]), Data(x=[2160, 3], edge_index=[2, 38862]), Data(x=[2160, 3], edge_index=[2, 38862]), Data(x=[2160, 3], edge_index=[2, 38862]), Data(x=[2160, 3], edge_index=[2, 38862]), Data(x=[2160, 3], edge_index=[2, 38862]), Data(x=[2160, 3], edge_index=[2, 38862]), Data(x=[2160, 3], edge_index=[2, 38862]), Data(x=[2160, 3], edge_index=[2, 38862]), Data(x=[2160, 3], edge_index=[2, 38862]), Data(x=[2160, 3], edge_index=[2, 38862]), Data(x=[2160, 3], edge_index=[2, 38862]), Data(x=[2160, 3], edge_index=[2, 38862]), Data(x=[2160, 3], edge_index=[2, 38862]), Data(x=[2160, 3], edge_index=[2, 38862]), Data(x=[2160, 3], edge_index=[2, 38862]), Data(x=[2160, 3], edge_index=[2, 38862]), Data(x=[2160, 3], edge_index=[2, 38862]), Data(x=[2160, 3], edge_index=[2, 38862]), Data(x=[2160, 3], edge_index=[2, 38862]), Data(x=[2160, 3], edge_index=[2, 38862]), Data(x=[2160, 3], edge_index=[2, 38862]), Data(x=[2160, 3], edge_index=[2, 38862]), Data(x=[2160, 3], edge_index=[2, 38862]), Data(x=[2160, 3], edge_index=[2, 38862]), Data(x=[2160, 3], edge_index=[2, 38862]), Data(x=[2160, 3], edge_index=[2, 38862]), Data(x=[2160, 3], edge_index=[2, 38862]), Data(x=[2160, 3], edge_index=[2, 38862]), Data(x=[2160, 3], edge_index=[2, 38862]), Data(x=[2160, 3], edge_index=[2, 38862]), Data(x=[2160, 3], edge_index=[2, 38862]), Data(x=[2160, 3], edge_index=[2, 38862]), Data(x=[2160, 3], edge_index=[2, 38862]), Data(x=[2160, 3], edge_index=[2, 38862]), Data(x=[2160, 3], edge_index=[2, 38862]), Data(x=[2160, 3], edge_index=[2, 38862]), Data(x=[2160, 3], edge_index=[2, 38862]), Data(x=[2160, 3], edge_index=[2, 38862]), Data(x=[2160, 3], edge_index=[2, 38862]), Data(x=[2160, 3], edge_index=[2, 38862]), Data(x=[2160, 3], edge_index=[2, 38862]), Data(x=[2160, 3], edge_index=[2, 38862]), Data(x=[2160, 3], edge_index=[2, 38862]), Data(x=[2160, 3], edge_index=[2, 38862]), Data(x=[2160, 3], edge_index=[2, 38862]), Data(x=[2160, 3], edge_index=[2, 38862]), Data(x=[2160, 3], edge_index=[2, 38862]), Data(x=[2160, 3], edge_index=[2, 38862]), Data(x=[2160, 3], edge_index=[2, 38862]), Data(x=[2160, 3], edge_index=[2, 38862]), Data(x=[2160, 3], edge_index=[2, 38862]), Data(x=[2160, 3], edge_index=[2, 38862]), Data(x=[2160, 3], edge_index=[2, 38862]), Data(x=[2160, 3], edge_index=[2, 38862]), Data(x=[2160, 3], edge_index=[2, 38862]), Data(x=[2160, 3], edge_index=[2, 38862]), Data(x=[2160, 3], edge_index=[2, 38862]), Data(x=[2160, 3], edge_index=[2, 38862]), Data(x=[2160, 3], edge_index=[2, 38862]), Data(x=[2160, 3], edge_index=[2, 38862]), Data(x=[2160, 3], edge_index=[2, 38862]), Data(x=[2160, 3], edge_index=[2, 38862]), Data(x=[2160, 3], edge_index=[2, 38862]), Data(x=[2160, 3], edge_index=[2, 38862]), Data(x=[2160, 3], edge_index=[2, 38862]), Data(x=[2160, 3], edge_index=[2, 38862]), Data(x=[2160, 3], edge_index=[2, 38862]), Data(x=[2160, 3], edge_index=[2, 38862]), Data(x=[2160, 3], edge_index=[2, 38862]), Data(x=[2160, 3], edge_index=[2, 38862]), Data(x=[2160, 3], edge_index=[2, 38862]), Data(x=[2160, 3], edge_index=[2, 38862]), Data(x=[2160, 3], edge_index=[2, 38862]), Data(x=[2160, 3], edge_index=[2, 38862]), Data(x=[2160, 3], edge_index=[2, 38862]), Data(x=[2160, 3], edge_index=[2, 38862]), Data(x=[2160, 3], edge_index=[2, 38862]), Data(x=[2160, 3], edge_index=[2, 38862]), Data(x=[2160, 3], edge_index=[2, 38862]), Data(x=[2160, 3], edge_index=[2, 38862]), Data(x=[2160, 3], edge_index=[2, 38862]), Data(x=[2160, 3], edge_index=[2, 38862]), Data(x=[2160, 3], edge_index=[2, 38862]), Data(x=[2160, 3], edge_index=[2, 38862]), Data(x=[2160, 3], edge_index=[2, 38862]), Data(x=[2160, 3], edge_index=[2, 38862]), Data(x=[2160, 3], edge_index=[2, 38862]), Data(x=[2160, 3], edge_index=[2, 38862]), Data(x=[2160, 3], edge_index=[2, 38862]), Data(x=[2160, 3], edge_index=[2, 38862]), Data(x=[2160, 3], edge_index=[2, 38862]), Data(x=[2160, 3], edge_index=[2, 38862]), Data(x=[2160, 3], edge_index=[2, 38862]), Data(x=[2160, 3], edge_index=[2, 38862]), Data(x=[2160, 3], edge_index=[2, 38862]), Data(x=[2160, 3], edge_index=[2, 38862]), Data(x=[2160, 3], edge_index=[2, 38862]), Data(x=[2160, 3], edge_index=[2, 38862]), Data(x=[2160, 3], edge_index=[2, 38862]), Data(x=[2160, 3], edge_index=[2, 38862]), Data(x=[2160, 3], edge_index=[2, 38862]), Data(x=[2160, 3], edge_index=[2, 38862]), Data(x=[2160, 3], edge_index=[2, 38862]), Data(x=[2160, 3], edge_index=[2, 38862]), Data(x=[2160, 3], edge_index=[2, 38862]), Data(x=[2160, 3], edge_index=[2, 38862]), Data(x=[2160, 3], edge_index=[2, 38862]), Data(x=[2160, 3], edge_index=[2, 38862]), Data(x=[2160, 3], edge_index=[2, 38862]), Data(x=[2160, 3], edge_index=[2, 38862]), Data(x=[2160, 3], edge_index=[2, 38862]), Data(x=[2160, 3], edge_index=[2, 38862]), Data(x=[2160, 3], edge_index=[2, 38862]), Data(x=[2160, 3], edge_index=[2, 38862]), Data(x=[2160, 3], edge_index=[2, 38862]), Data(x=[2160, 3], edge_index=[2, 38862]), Data(x=[2160, 3], edge_index=[2, 38862]), Data(x=[2160, 3], edge_index=[2, 38862]), Data(x=[2160, 3], edge_index=[2, 38862]), Data(x=[2160, 3], edge_index=[2, 38862]), Data(x=[2160, 3], edge_index=[2, 38862]), Data(x=[2160, 3], edge_index=[2, 38862]), Data(x=[2160, 3], edge_index=[2, 38862]), Data(x=[2160, 3], edge_index=[2, 38862]), Data(x=[2160, 3], edge_index=[2, 38862]), Data(x=[2160, 3], edge_index=[2, 38862]), Data(x=[2160, 3], edge_index=[2, 38862]), Data(x=[2160, 3], edge_index=[2, 38862]), Data(x=[2160, 3], edge_index=[2, 38862]), Data(x=[2160, 3], edge_index=[2, 38862]), Data(x=[2160, 3], edge_index=[2, 38862]), Data(x=[2160, 3], edge_index=[2, 38862]), Data(x=[2160, 3], edge_index=[2, 38862]), Data(x=[2160, 3], edge_index=[2, 38862]), Data(x=[2160, 3], edge_index=[2, 38862]), Data(x=[2160, 3], edge_index=[2, 38862]), Data(x=[2160, 3], edge_index=[2, 38862]), Data(x=[2160, 3], edge_index=[2, 38862]), Data(x=[2160, 3], edge_index=[2, 38862]), Data(x=[2160, 3], edge_index=[2, 38862]), Data(x=[2160, 3], edge_index=[2, 38862]), Data(x=[2160, 3], edge_index=[2, 38862]), Data(x=[2160, 3], edge_index=[2, 38862]), Data(x=[2160, 3], edge_index=[2, 38862]), Data(x=[2160, 3], edge_index=[2, 38862]), Data(x=[2160, 3], edge_index=[2, 38862]), Data(x=[2160, 3], edge_index=[2, 38862]), Data(x=[2160, 3], edge_index=[2, 38862]), Data(x=[2160, 3], edge_index=[2, 38862]), Data(x=[2160, 3], edge_index=[2, 38862]), Data(x=[2160, 3], edge_index=[2, 38862]), Data(x=[2160, 3], edge_index=[2, 38862]), Data(x=[2160, 3], edge_index=[2, 38862]), Data(x=[2160, 3], edge_index=[2, 38862]), Data(x=[2160, 3], edge_index=[2, 38862]), Data(x=[2160, 3], edge_index=[2, 38862]), Data(x=[2160, 3], edge_index=[2, 38862]), Data(x=[2160, 3], edge_index=[2, 38862]), Data(x=[2160, 3], edge_index=[2, 38862]), Data(x=[2160, 3], edge_index=[2, 38862]), Data(x=[2160, 3], edge_index=[2, 38862]), Data(x=[2160, 3], edge_index=[2, 38862]), Data(x=[2160, 3], edge_index=[2, 38862]), Data(x=[2160, 3], edge_index=[2, 38862]), Data(x=[2160, 3], edge_index=[2, 38862]), Data(x=[2160, 3], edge_index=[2, 38862]), Data(x=[2160, 3], edge_index=[2, 38862]), Data(x=[2160, 3], edge_index=[2, 38862]), Data(x=[2160, 3], edge_index=[2, 38862]), Data(x=[2160, 3], edge_index=[2, 38862]), Data(x=[2160, 3], edge_index=[2, 38862]), Data(x=[2160, 3], edge_index=[2, 38862]), Data(x=[2160, 3], edge_index=[2, 38862]), Data(x=[2160, 3], edge_index=[2, 38862]), Data(x=[2160, 3], edge_index=[2, 38862]), Data(x=[2160, 3], edge_index=[2, 38862]), Data(x=[2160, 3], edge_index=[2, 38862]), Data(x=[2160, 3], edge_index=[2, 38862]), Data(x=[2160, 3], edge_index=[2, 38862]), Data(x=[2160, 3], edge_index=[2, 38862]), Data(x=[2160, 3], edge_index=[2, 38862]), Data(x=[2160, 3], edge_index=[2, 38862]), Data(x=[2160, 3], edge_index=[2, 38862]), Data(x=[2160, 3], edge_index=[2, 38862]), Data(x=[2160, 3], edge_index=[2, 38862]), Data(x=[2160, 3], edge_index=[2, 38862]), Data(x=[2160, 3], edge_index=[2, 38862]), Data(x=[2160, 3], edge_index=[2, 38862]), Data(x=[2160, 3], edge_index=[2, 38862]), Data(x=[2160, 3], edge_index=[2, 38862]), Data(x=[2160, 3], edge_index=[2, 38862]), Data(x=[2160, 3], edge_index=[2, 38862]), Data(x=[2160, 3], edge_index=[2, 38862]), Data(x=[2160, 3], edge_index=[2, 38862]), Data(x=[2160, 3], edge_index=[2, 38862]), Data(x=[2160, 3], edge_index=[2, 38862]), Data(x=[2160, 3], edge_index=[2, 38862]), Data(x=[2160, 3], edge_index=[2, 38862]), Data(x=[2160, 3], edge_index=[2, 38862]), Data(x=[2160, 3], edge_index=[2, 38862]), Data(x=[2160, 3], edge_index=[2, 38862]), Data(x=[2160, 3], edge_index=[2, 38862]), Data(x=[2160, 3], edge_index=[2, 38862]), Data(x=[2160, 3], edge_index=[2, 38862]), Data(x=[2160, 3], edge_index=[2, 38862]), Data(x=[2160, 3], edge_index=[2, 38862]), Data(x=[2160, 3], edge_index=[2, 38862]), Data(x=[2160, 3], edge_index=[2, 38862]), Data(x=[2160, 3], edge_index=[2, 38862]), Data(x=[2160, 3], edge_index=[2, 38862]), Data(x=[2160, 3], edge_index=[2, 38862]), Data(x=[2160, 3], edge_index=[2, 38862]), Data(x=[2160, 3], edge_index=[2, 38862]), Data(x=[2160, 3], edge_index=[2, 38862]), Data(x=[2160, 3], edge_index=[2, 38862]), Data(x=[2160, 3], edge_index=[2, 38862]), Data(x=[2160, 3], edge_index=[2, 38862]), Data(x=[2160, 3], edge_index=[2, 38862]), Data(x=[2160, 3], edge_index=[2, 38862]), Data(x=[2160, 3], edge_index=[2, 38862]), Data(x=[2160, 3], edge_index=[2, 38862]), Data(x=[2160, 3], edge_index=[2, 38862]), Data(x=[2160, 3], edge_index=[2, 38862]), Data(x=[2160, 3], edge_index=[2, 38862]), Data(x=[2160, 3], edge_index=[2, 38862]), Data(x=[2160, 3], edge_index=[2, 38862]), Data(x=[2160, 3], edge_index=[2, 38862]), Data(x=[2160, 3], edge_index=[2, 38862]), Data(x=[2160, 3], edge_index=[2, 38862]), Data(x=[2160, 3], edge_index=[2, 38862]), Data(x=[2160, 3], edge_index=[2, 38862]), Data(x=[2160, 3], edge_index=[2, 38862]), Data(x=[2160, 3], edge_index=[2, 38862]), Data(x=[2160, 3], edge_index=[2, 38862]), Data(x=[2160, 3], edge_index=[2, 38862]), Data(x=[2160, 3], edge_index=[2, 38862]), Data(x=[2160, 3], edge_index=[2, 38862]), Data(x=[2160, 3], edge_index=[2, 38862]), Data(x=[2160, 3], edge_index=[2, 38862]), Data(x=[2160, 3], edge_index=[2, 38862]), Data(x=[2160, 3], edge_index=[2, 38862]), Data(x=[2160, 3], edge_index=[2, 38862]), Data(x=[2160, 3], edge_index=[2, 38862]), Data(x=[2160, 3], edge_index=[2, 38862]), Data(x=[2160, 3], edge_index=[2, 38862]), Data(x=[2160, 3], edge_index=[2, 38862]), Data(x=[2160, 3], edge_index=[2, 38862]), Data(x=[2160, 3], edge_index=[2, 38862]), Data(x=[2160, 3], edge_index=[2, 38862]), Data(x=[2160, 3], edge_index=[2, 38862]), Data(x=[2160, 3], edge_index=[2, 38862]), Data(x=[2160, 3], edge_index=[2, 38862]), Data(x=[2160, 3], edge_index=[2, 38862]), Data(x=[2160, 3], edge_index=[2, 38862]), Data(x=[2160, 3], edge_index=[2, 38862]), Data(x=[2160, 3], edge_index=[2, 38862]), Data(x=[2160, 3], edge_index=[2, 38862]), Data(x=[2160, 3], edge_index=[2, 38862]), Data(x=[2160, 3], edge_index=[2, 38862]), Data(x=[2160, 3], edge_index=[2, 38862]), Data(x=[2160, 3], edge_index=[2, 38862]), Data(x=[2160, 3], edge_index=[2, 38862]), Data(x=[2160, 3], edge_index=[2, 38862]), Data(x=[2160, 3], edge_index=[2, 38862]), Data(x=[2160, 3], edge_index=[2, 38862]), Data(x=[2160, 3], edge_index=[2, 38862]), Data(x=[2160, 3], edge_index=[2, 38862]), Data(x=[2160, 3], edge_index=[2, 38862]), Data(x=[2160, 3], edge_index=[2, 38862]), Data(x=[2160, 3], edge_index=[2, 38862]), Data(x=[2160, 3], edge_index=[2, 38862]), Data(x=[2160, 3], edge_index=[2, 38862]), Data(x=[2160, 3], edge_index=[2, 38862]), Data(x=[2160, 3], edge_index=[2, 38862]), Data(x=[2160, 3], edge_index=[2, 38862]), Data(x=[2160, 3], edge_index=[2, 38862]), Data(x=[2160, 3], edge_index=[2, 38862]), Data(x=[2160, 3], edge_index=[2, 38862]), Data(x=[2160, 3], edge_index=[2, 38862]), Data(x=[2160, 3], edge_index=[2, 38862]), Data(x=[2160, 3], edge_index=[2, 38862]), Data(x=[2160, 3], edge_index=[2, 38862]), Data(x=[2160, 3], edge_index=[2, 38862]), Data(x=[2160, 3], edge_index=[2, 38862]), Data(x=[2160, 3], edge_index=[2, 38862]), Data(x=[2160, 3], edge_index=[2, 38862]), Data(x=[2160, 3], edge_index=[2, 38862]), Data(x=[2160, 3], edge_index=[2, 38862]), Data(x=[2160, 3], edge_index=[2, 38862]), Data(x=[2160, 3], edge_index=[2, 38862]), Data(x=[2160, 3], edge_index=[2, 38862]), Data(x=[2160, 3], edge_index=[2, 38862]), Data(x=[2160, 3], edge_index=[2, 38862]), Data(x=[2160, 3], edge_index=[2, 38862]), Data(x=[2160, 3], edge_index=[2, 38862]), Data(x=[2160, 3], edge_index=[2, 38862]), Data(x=[2160, 3], edge_index=[2, 38862]), Data(x=[2160, 3], edge_index=[2, 38862]), Data(x=[2160, 3], edge_index=[2, 38862]), Data(x=[2160, 3], edge_index=[2, 38862]), Data(x=[2160, 3], edge_index=[2, 38862]), Data(x=[2160, 3], edge_index=[2, 38862]), Data(x=[2160, 3], edge_index=[2, 38862]), Data(x=[2160, 3], edge_index=[2, 38862]), Data(x=[2160, 3], edge_index=[2, 38862]), Data(x=[2160, 3], edge_index=[2, 38862]), Data(x=[2160, 3], edge_index=[2, 38862]), Data(x=[2160, 3], edge_index=[2, 38862]), Data(x=[2160, 3], edge_index=[2, 38862]), Data(x=[2160, 3], edge_index=[2, 38862]), Data(x=[2160, 3], edge_index=[2, 38862]), Data(x=[2160, 3], edge_index=[2, 38862]), Data(x=[2160, 3], edge_index=[2, 38862]), Data(x=[2160, 3], edge_index=[2, 38862]), Data(x=[2160, 3], edge_index=[2, 38862]), Data(x=[2160, 3], edge_index=[2, 38862]), Data(x=[2160, 3], edge_index=[2, 38862]), Data(x=[2160, 3], edge_index=[2, 38862]), Data(x=[2160, 3], edge_index=[2, 38862]), Data(x=[2160, 3], edge_index=[2, 38862]), Data(x=[2160, 3], edge_index=[2, 38862]), Data(x=[2160, 3], edge_index=[2, 38862]), Data(x=[2160, 3], edge_index=[2, 38862]), Data(x=[2160, 3], edge_index=[2, 38862]), Data(x=[2160, 3], edge_index=[2, 38862]), Data(x=[2160, 3], edge_index=[2, 38862]), Data(x=[2160, 3], edge_index=[2, 38862]), Data(x=[2160, 3], edge_index=[2, 38862]), Data(x=[2160, 3], edge_index=[2, 38862]), Data(x=[2160, 3], edge_index=[2, 38862]), Data(x=[2160, 3], edge_index=[2, 38862]), Data(x=[2160, 3], edge_index=[2, 38862]), Data(x=[2160, 3], edge_index=[2, 38862]), Data(x=[2160, 3], edge_index=[2, 38862]), Data(x=[2160, 3], edge_index=[2, 38862]), Data(x=[2160, 3], edge_index=[2, 38862]), Data(x=[2160, 3], edge_index=[2, 38862]), Data(x=[2160, 3], edge_index=[2, 38862]), Data(x=[2160, 3], edge_index=[2, 38862]), Data(x=[2160, 3], edge_index=[2, 38862]), Data(x=[2160, 3], edge_index=[2, 38862]), Data(x=[2160, 3], edge_index=[2, 38862]), Data(x=[2160, 3], edge_index=[2, 38862]), Data(x=[2160, 3], edge_index=[2, 38862]), Data(x=[2160, 3], edge_index=[2, 38862]), Data(x=[2160, 3], edge_index=[2, 38862]), Data(x=[2160, 3], edge_index=[2, 38862]), Data(x=[2160, 3], edge_index=[2, 38862]), Data(x=[2160, 3], edge_index=[2, 38862]), Data(x=[2160, 3], edge_index=[2, 38862]), Data(x=[2160, 3], edge_index=[2, 38862]), Data(x=[2160, 3], edge_index=[2, 38862]), Data(x=[2160, 3], edge_index=[2, 38862]), Data(x=[2160, 3], edge_index=[2, 38862]), Data(x=[2160, 3], edge_index=[2, 38862]), Data(x=[2160, 3], edge_index=[2, 38862]), Data(x=[2160, 3], edge_index=[2, 38862]), Data(x=[2160, 3], edge_index=[2, 38862]), Data(x=[2160, 3], edge_index=[2, 38862]), Data(x=[2160, 3], edge_index=[2, 38862]), Data(x=[2160, 3], edge_index=[2, 38862]), Data(x=[2160, 3], edge_index=[2, 38862]), Data(x=[2160, 3], edge_index=[2, 38862]), Data(x=[2160, 3], edge_index=[2, 38862]), Data(x=[2160, 3], edge_index=[2, 38862]), Data(x=[2160, 3], edge_index=[2, 38862]), Data(x=[2160, 3], edge_index=[2, 38862]), Data(x=[2160, 3], edge_index=[2, 38862]), Data(x=[2160, 3], edge_index=[2, 38862]), Data(x=[2160, 3], edge_index=[2, 38862]), Data(x=[2160, 3], edge_index=[2, 38862]), Data(x=[2160, 3], edge_index=[2, 38862]), Data(x=[2160, 3], edge_index=[2, 38862]), Data(x=[2160, 3], edge_index=[2, 38862]), Data(x=[2160, 3], edge_index=[2, 38862]), Data(x=[2160, 3], edge_index=[2, 38862]), Data(x=[2160, 3], edge_index=[2, 38862]), Data(x=[2160, 3], edge_index=[2, 38862]), Data(x=[2160, 3], edge_index=[2, 38862]), Data(x=[2160, 3], edge_index=[2, 38862]), Data(x=[2160, 3], edge_index=[2, 38862]), Data(x=[2160, 3], edge_index=[2, 38862]), Data(x=[2160, 3], edge_index=[2, 38862]), Data(x=[2160, 3], edge_index=[2, 38862]), Data(x=[2160, 3], edge_index=[2, 38862]), Data(x=[2160, 3], edge_index=[2, 38862]), Data(x=[2160, 3], edge_index=[2, 38862]), Data(x=[2160, 3], edge_index=[2, 38862]), Data(x=[2160, 3], edge_index=[2, 38862]), Data(x=[2160, 3], edge_index=[2, 38862]), Data(x=[2160, 3], edge_index=[2, 38862]), Data(x=[2160, 3], edge_index=[2, 38862]), Data(x=[2160, 3], edge_index=[2, 38862]), Data(x=[2160, 3], edge_index=[2, 38862]), Data(x=[2160, 3], edge_index=[2, 38862]), Data(x=[2160, 3], edge_index=[2, 38862]), Data(x=[2160, 3], edge_index=[2, 38862]), Data(x=[2160, 3], edge_index=[2, 38862]), Data(x=[2160, 3], edge_index=[2, 38862]), Data(x=[2160, 3], edge_index=[2, 38862]), Data(x=[2160, 3], edge_index=[2, 38862]), Data(x=[2160, 3], edge_index=[2, 38862]), Data(x=[2160, 3], edge_index=[2, 38862]), Data(x=[2160, 3], edge_index=[2, 38862]), Data(x=[2160, 3], edge_index=[2, 38862]), Data(x=[2160, 3], edge_index=[2, 38862]), Data(x=[2160, 3], edge_index=[2, 38862]), Data(x=[2160, 3], edge_index=[2, 38862]), Data(x=[2160, 3], edge_index=[2, 38862]), Data(x=[2160, 3], edge_index=[2, 38862]), Data(x=[2160, 3], edge_index=[2, 38862]), Data(x=[2160, 3], edge_index=[2, 38862]), Data(x=[2160, 3], edge_index=[2, 38862]), Data(x=[2160, 3], edge_index=[2, 38862]), Data(x=[2160, 3], edge_index=[2, 38862]), Data(x=[2160, 3], edge_index=[2, 38862]), Data(x=[2160, 3], edge_index=[2, 38862]), Data(x=[2160, 3], edge_index=[2, 38862]), Data(x=[2160, 3], edge_index=[2, 38862]), Data(x=[2160, 3], edge_index=[2, 38862]), Data(x=[2160, 3], edge_index=[2, 38862]), Data(x=[2160, 3], edge_index=[2, 38862]), Data(x=[2160, 3], edge_index=[2, 38862]), Data(x=[2160, 3], edge_index=[2, 38862]), Data(x=[2160, 3], edge_index=[2, 38862]), Data(x=[2160, 3], edge_index=[2, 38862]), Data(x=[2160, 3], edge_index=[2, 38862]), Data(x=[2160, 3], edge_index=[2, 38862]), Data(x=[2160, 3], edge_index=[2, 38862]), Data(x=[2160, 3], edge_index=[2, 38862]), Data(x=[2160, 3], edge_index=[2, 38862]), Data(x=[2160, 3], edge_index=[2, 38862]), Data(x=[2160, 3], edge_index=[2, 38862]), Data(x=[2160, 3], edge_index=[2, 38862]), Data(x=[2160, 3], edge_index=[2, 38862]), Data(x=[2160, 3], edge_index=[2, 38862]), Data(x=[2160, 3], edge_index=[2, 38862]), Data(x=[2160, 3], edge_index=[2, 38862]), Data(x=[2160, 3], edge_index=[2, 38862]), Data(x=[2160, 3], edge_index=[2, 38862]), Data(x=[2160, 3], edge_index=[2, 38862]), Data(x=[2160, 3], edge_index=[2, 38862]), Data(x=[2160, 3], edge_index=[2, 38862]), Data(x=[2160, 3], edge_index=[2, 38862]), Data(x=[2160, 3], edge_index=[2, 38862]), Data(x=[2160, 3], edge_index=[2, 38862]), Data(x=[2160, 3], edge_index=[2, 38862]), Data(x=[2160, 3], edge_index=[2, 38862]), Data(x=[2160, 3], edge_index=[2, 38862]), Data(x=[2160, 3], edge_index=[2, 38862]), Data(x=[2160, 3], edge_index=[2, 38862]), Data(x=[2160, 3], edge_index=[2, 38862]), Data(x=[2160, 3], edge_index=[2, 38862]), Data(x=[2160, 3], edge_index=[2, 38862]), Data(x=[2160, 3], edge_index=[2, 38862]), Data(x=[2160, 3], edge_index=[2, 38862]), Data(x=[2160, 3], edge_index=[2, 38862]), Data(x=[2160, 3], edge_index=[2, 38862]), Data(x=[2160, 3], edge_index=[2, 38862]), Data(x=[2160, 3], edge_index=[2, 38862]), Data(x=[2160, 3], edge_index=[2, 38862]), Data(x=[2160, 3], edge_index=[2, 38862]), Data(x=[2160, 3], edge_index=[2, 38862]), Data(x=[2160, 3], edge_index=[2, 38862]), Data(x=[2160, 3], edge_index=[2, 38862]), Data(x=[2160, 3], edge_index=[2, 38862]), Data(x=[2160, 3], edge_index=[2, 38862]), Data(x=[2160, 3], edge_index=[2, 38862]), Data(x=[2160, 3], edge_index=[2, 38862]), Data(x=[2160, 3], edge_index=[2, 38862]), Data(x=[2160, 3], edge_index=[2, 38862]), Data(x=[2160, 3], edge_index=[2, 38862]), Data(x=[2160, 3], edge_index=[2, 38862]), Data(x=[2160, 3], edge_index=[2, 38862]), Data(x=[2160, 3], edge_index=[2, 38862]), Data(x=[2160, 3], edge_index=[2, 38862]), Data(x=[2160, 3], edge_index=[2, 38862]), Data(x=[2160, 3], edge_index=[2, 38862]), Data(x=[2160, 3], edge_index=[2, 38862]), Data(x=[2160, 3], edge_index=[2, 38862]), Data(x=[2160, 3], edge_index=[2, 38862]), Data(x=[2160, 3], edge_index=[2, 38862]), Data(x=[2160, 3], edge_index=[2, 38862]), Data(x=[2160, 3], edge_index=[2, 38862]), Data(x=[2160, 3], edge_index=[2, 38862]), Data(x=[2160, 3], edge_index=[2, 38862]), Data(x=[2160, 3], edge_index=[2, 38862]), Data(x=[2160, 3], edge_index=[2, 38862]), Data(x=[2160, 3], edge_index=[2, 38862]), Data(x=[2160, 3], edge_index=[2, 38862]), Data(x=[2160, 3], edge_index=[2, 38862]), Data(x=[2160, 3], edge_index=[2, 38862]), Data(x=[2160, 3], edge_index=[2, 38862]), Data(x=[2160, 3], edge_index=[2, 38862]), Data(x=[2160, 3], edge_index=[2, 38862]), Data(x=[2160, 3], edge_index=[2, 38862]), Data(x=[2160, 3], edge_index=[2, 38862]), Data(x=[2160, 3], edge_index=[2, 38862]), Data(x=[2160, 3], edge_index=[2, 38862]), Data(x=[2160, 3], edge_index=[2, 38862]), Data(x=[2160, 3], edge_index=[2, 38862]), Data(x=[2160, 3], edge_index=[2, 38862]), Data(x=[2160, 3], edge_index=[2, 38862]), Data(x=[2160, 3], edge_index=[2, 38862]), Data(x=[2160, 3], edge_index=[2, 38862]), Data(x=[2160, 3], edge_index=[2, 38862]), Data(x=[2160, 3], edge_index=[2, 38862]), Data(x=[2160, 3], edge_index=[2, 38862]), Data(x=[2160, 3], edge_index=[2, 38862]), Data(x=[2160, 3], edge_index=[2, 38862]), Data(x=[2160, 3], edge_index=[2, 38862]), Data(x=[2160, 3], edge_index=[2, 38862]), Data(x=[2160, 3], edge_index=[2, 38862]), Data(x=[2160, 3], edge_index=[2, 38862]), Data(x=[2160, 3], edge_index=[2, 38862]), Data(x=[2160, 3], edge_index=[2, 38862]), Data(x=[2160, 3], edge_index=[2, 38862]), Data(x=[2160, 3], edge_index=[2, 38862]), Data(x=[2160, 3], edge_index=[2, 38862]), Data(x=[2160, 3], edge_index=[2, 38862]), Data(x=[2160, 3], edge_index=[2, 38862]), Data(x=[2160, 3], edge_index=[2, 38862]), Data(x=[2160, 3], edge_index=[2, 38862]), Data(x=[2160, 3], edge_index=[2, 38862]), Data(x=[2160, 3], edge_index=[2, 38862]), Data(x=[2160, 3], edge_index=[2, 38862]), Data(x=[2160, 3], edge_index=[2, 38862]), Data(x=[2160, 3], edge_index=[2, 38862]), Data(x=[2160, 3], edge_index=[2, 38862]), Data(x=[2160, 3], edge_index=[2, 38862]), Data(x=[2160, 3], edge_index=[2, 38862]), Data(x=[2160, 3], edge_index=[2, 38862]), Data(x=[2160, 3], edge_index=[2, 38862]), Data(x=[2160, 3], edge_index=[2, 38862]), Data(x=[2160, 3], edge_index=[2, 38862]), Data(x=[2160, 3], edge_index=[2, 38862]), Data(x=[2160, 3], edge_index=[2, 38862]), Data(x=[2160, 3], edge_index=[2, 38862]), Data(x=[2160, 3], edge_index=[2, 38862]), Data(x=[2160, 3], edge_index=[2, 38862]), Data(x=[2160, 3], edge_index=[2, 38862]), Data(x=[2160, 3], edge_index=[2, 38862]), Data(x=[2160, 3], edge_index=[2, 38862]), Data(x=[2160, 3], edge_index=[2, 38862]), Data(x=[2160, 3], edge_index=[2, 38862]), Data(x=[2160, 3], edge_index=[2, 38862]), Data(x=[2160, 3], edge_index=[2, 38862]), Data(x=[2160, 3], edge_index=[2, 38862]), Data(x=[2160, 3], edge_index=[2, 38862]), Data(x=[2160, 3], edge_index=[2, 38862]), Data(x=[2160, 3], edge_index=[2, 38862]), Data(x=[2160, 3], edge_index=[2, 38862]), Data(x=[2160, 3], edge_index=[2, 38862]), Data(x=[2160, 3], edge_index=[2, 38862]), Data(x=[2160, 3], edge_index=[2, 38862]), Data(x=[2160, 3], edge_index=[2, 38862]), Data(x=[2160, 3], edge_index=[2, 38862]), Data(x=[2160, 3], edge_index=[2, 38862]), Data(x=[2160, 3], edge_index=[2, 38862]), Data(x=[2160, 3], edge_index=[2, 38862]), Data(x=[2160, 3], edge_index=[2, 38862]), Data(x=[2160, 3], edge_index=[2, 38862]), Data(x=[2160, 3], edge_index=[2, 38862]), Data(x=[2160, 3], edge_index=[2, 38862]), Data(x=[2160, 3], edge_index=[2, 38862]), Data(x=[2160, 3], edge_index=[2, 38862]), Data(x=[2160, 3], edge_index=[2, 38862]), Data(x=[2160, 3], edge_index=[2, 38862]), Data(x=[2160, 3], edge_index=[2, 38862]), Data(x=[2160, 3], edge_index=[2, 38862]), Data(x=[2160, 3], edge_index=[2, 38862]), Data(x=[2160, 3], edge_index=[2, 38862]), Data(x=[2160, 3], edge_index=[2, 38862]), Data(x=[2160, 3], edge_index=[2, 38862]), Data(x=[2160, 3], edge_index=[2, 38862]), Data(x=[2160, 3], edge_index=[2, 38862]), Data(x=[2160, 3], edge_index=[2, 38862]), Data(x=[2160, 3], edge_index=[2, 38862]), Data(x=[2160, 3], edge_index=[2, 38862]), Data(x=[2160, 3], edge_index=[2, 38862]), Data(x=[2160, 3], edge_index=[2, 38862]), Data(x=[2160, 3], edge_index=[2, 38862]), Data(x=[2160, 3], edge_index=[2, 38862]), Data(x=[2160, 3], edge_index=[2, 38862]), Data(x=[2160, 3], edge_index=[2, 38862]), Data(x=[2160, 3], edge_index=[2, 38862]), Data(x=[2160, 3], edge_index=[2, 38862]), Data(x=[2160, 3], edge_index=[2, 38862]), Data(x=[2160, 3], edge_index=[2, 38862]), Data(x=[2160, 3], edge_index=[2, 38862]), Data(x=[2160, 3], edge_index=[2, 38862]), Data(x=[2160, 3], edge_index=[2, 38862]), Data(x=[2160, 3], edge_index=[2, 38862]), Data(x=[2160, 3], edge_index=[2, 38862]), Data(x=[2160, 3], edge_index=[2, 38862]), Data(x=[2160, 3], edge_index=[2, 38862]), Data(x=[2160, 3], edge_index=[2, 38862]), Data(x=[2160, 3], edge_index=[2, 38862]), Data(x=[2160, 3], edge_index=[2, 38862]), Data(x=[2160, 3], edge_index=[2, 38862]), Data(x=[2160, 3], edge_index=[2, 38862]), Data(x=[2160, 3], edge_index=[2, 38862]), Data(x=[2160, 3], edge_index=[2, 38862]), Data(x=[2160, 3], edge_index=[2, 38862]), Data(x=[2160, 3], edge_index=[2, 38862]), Data(x=[2160, 3], edge_index=[2, 38862]), Data(x=[2160, 3], edge_index=[2, 38862]), Data(x=[2160, 3], edge_index=[2, 38862]), Data(x=[2160, 3], edge_index=[2, 38862]), Data(x=[2160, 3], edge_index=[2, 38862]), Data(x=[2160, 3], edge_index=[2, 38862]), Data(x=[2160, 3], edge_index=[2, 38862]), Data(x=[2160, 3], edge_index=[2, 38862]), Data(x=[2160, 3], edge_index=[2, 38862]), Data(x=[2160, 3], edge_index=[2, 38862]), Data(x=[2160, 3], edge_index=[2, 38862]), Data(x=[2160, 3], edge_index=[2, 38862]), Data(x=[2160, 3], edge_index=[2, 38862]), Data(x=[2160, 3], edge_index=[2, 38862]), Data(x=[2160, 3], edge_index=[2, 38862]), Data(x=[2160, 3], edge_index=[2, 38862]), Data(x=[2160, 3], edge_index=[2, 38862]), Data(x=[2160, 3], edge_index=[2, 38862]), Data(x=[2160, 3], edge_index=[2, 38862]), Data(x=[2160, 3], edge_index=[2, 38862]), Data(x=[2160, 3], edge_index=[2, 38862]), Data(x=[2160, 3], edge_index=[2, 38862]), Data(x=[2160, 3], edge_index=[2, 38862]), Data(x=[2160, 3], edge_index=[2, 38862]), Data(x=[2160, 3], edge_index=[2, 38862]), Data(x=[2160, 3], edge_index=[2, 38862]), Data(x=[2160, 3], edge_index=[2, 38862]), Data(x=[2160, 3], edge_index=[2, 38862]), Data(x=[2160, 3], edge_index=[2, 38862]), Data(x=[2160, 3], edge_index=[2, 38862])]\n"
          ]
        }
      ]
    },
    {
      "cell_type": "code",
      "source": [
        "import os.path as osp\n",
        "\n",
        "import torch\n",
        "from torch_geometric.data import Dataset, download_url\n",
        "\n",
        "root = '/content/drive/MyDrive/Test_loader.pth'\n",
        "\n",
        "class Dataset1(Dataset):\n",
        "    def __init__(self, root, transform=None, pre_transform=None, pre_filter=None):\n",
        "        super().__init__(root, transform, pre_transform, pre_filter)\n",
        "\n",
        "    def len(self):\n",
        "        return len(self.processed_file_names)\n",
        "\n",
        "    def get(self, idx):\n",
        "        data = torch.load(osp.join(self.processed_dir, f'data_{idx}.pt'))\n",
        "        return data"
      ],
      "metadata": {
        "id": "uzGT1L-mXxrO"
      },
      "execution_count": null,
      "outputs": []
    },
    {
      "cell_type": "code",
      "source": [
        "dataloader = DataLoader(dataset, batch_size=16)"
      ],
      "metadata": {
        "colab": {
          "base_uri": "https://localhost:8080/"
        },
        "id": "zfrmjzWKhN4D",
        "outputId": "737f95a0-476a-4ebf-8469-f9f2ad3f4962"
      },
      "execution_count": null,
      "outputs": [
        {
          "output_type": "stream",
          "name": "stderr",
          "text": [
            "/usr/local/lib/python3.9/dist-packages/torch_geometric/deprecation.py:22: UserWarning: 'data.DataLoader' is deprecated, use 'loader.DataLoader' instead\n",
            "  warnings.warn(out)\n"
          ]
        }
      ]
    },
    {
      "cell_type": "markdown",
      "source": [],
      "metadata": {
        "id": "9KD6tQKBhHxh"
      }
    },
    {
      "cell_type": "code",
      "source": [
        "import torch\n",
        "import torch.nn as nn\n",
        "import torch.nn.functional as F\n",
        "from torch_geometric.nn import GCNConv, VGAE\n",
        "from torch_geometric.data import Data, DataLoader\n",
        "from torch_geometric.nn import GAE, VGAE, GCNConv\n",
        "import numpy as np\n",
        "\n",
        "# Define the number of epochs to train for\n",
        "num_epochs = 50\n",
        "\n",
        "# Define the batch size for the dataloader\n",
        "batch_size = 16\n",
        "\n",
        "# Define the number of nodes and features in each node\n",
        "num_nodes = 2160\n",
        "num_features = 3\n",
        "\n",
        "# Define the number of dimensions in the latent variable\n",
        "hidden_dim = 16\n",
        "output_dim = 6\n",
        "input_dim = 3\n",
        "\n",
        "# Define the device to use for training (CPU or GPU)\n",
        "device = torch.device('cuda' if torch.cuda.is_available() else 'cpu')\n",
        "\n",
        "# Define the encoder and decoder architectures for the VAE\n",
        "class Encoder(torch.nn.Module):\n",
        "    def __init__(self, input_dim, hidden_dim, output_dim):\n",
        "        super(Encoder, self).__init__()\n",
        "        self.lin1 = torch.nn.Linear(input_dim, hidden_dim)\n",
        "        self.lin2 = torch.nn.Linear(hidden_dim, output_dim)\n",
        "        self.conv1 = GCNConv(input_dim, hidden_dim)\n",
        "        self.conv_mu = GCNConv(hidden_dim, output_dim)\n",
        "        self.conv_logstd = GCNConv(hidden_dim, output_dim)\n",
        "\n",
        "    def forward(self, x, edge_index):\n",
        "        # x = F.relu(self.lin1(x))\n",
        "        # x = F.dropout(x, training=self.training)\n",
        "        # x = self.lin2(x)\n",
        "        # x = torch_geometric.utils.scatter('mean', x, edge_index)\n",
        "        # return x\n",
        "        x = self.conv1(x, edge_index).relu()\n",
        "        # return self.conv_mu(x, edge_index), self.conv_logstd(x, edge_index)\n",
        "        return self.conv_mu(x, edge_index)\n",
        "\n",
        "class Decoder(torch.nn.Module):\n",
        "    def __init__(self, input_dim, hidden_dim, output_dim):\n",
        "        super(Decoder, self).__init__()\n",
        "        self.lin1 = torch.nn.Linear(input_dim, hidden_dim)\n",
        "        self.lin2 = torch.nn.Linear(hidden_dim, output_dim)\n",
        "        self.conv1 = GCNConv(input_dim, hidden_dim)\n",
        "        self.conv_mu = GCNConv(hidden_dim, output_dim)\n",
        "        self.conv_logstd = GCNConv(hidden_dim, output_dim)\n",
        "\n",
        "    def forward(self, x, edge_index):\n",
        "        # x = F.relu(self.lin1(x))\n",
        "        # x = F.dropout(x, training=self.training)\n",
        "        # x = self.lin2(x)\n",
        "        # x = torch.matmul(edge_index, x)\n",
        "        # return x\n",
        "        x = self.conv1(x, edge_index).relu()\n",
        "        # return self.conv_mu(x, edge_index), self.conv_logstd(x, edge_index)\n",
        "        return self.conv_mu(x, edge_index)\n",
        "\n",
        "\n",
        "class GraphAutoencoder(torch.nn.Module):\n",
        "    def __init__(self, input_dim, hidden_dim, output_dim):\n",
        "        super(GraphAutoencoder, self).__init__()\n",
        "        self.encoder = Encoder(input_dim, hidden_dim, output_dim)\n",
        "        self.decoder = Decoder(output_dim, hidden_dim, input_dim)\n",
        "\n",
        "    def forward(self, x, edge_index):\n",
        "        z = self.encoder(x, edge_index)\n",
        "        x_hat = self.decoder(z, edge_index)\n",
        "        return x_hat\n",
        "\n",
        "\n",
        "# Define the VAE model\n",
        "# class VAE(nn.Module):\n",
        "#     def __init__(self):\n",
        "#         super(VAE, self).__init__()\n",
        "#         self.encoder = Encoder(input_dim, hidden_dim, output_dim)\n",
        "#         self.decoder = Decoder(input_dim, hidden_dim, output_dim)\n",
        "#         self.gae = VGAE(self.encoder, self.decoder)\n",
        "        \n",
        "#     def forward(self, x, edge_index):\n",
        "#         z = self.encoder(x, edge_index)\n",
        "#         x_hat = self.decoder(z, edge_index)\n",
        "#         return x_hat"
      ],
      "metadata": {
        "id": "pxIe2ImyhIIa"
      },
      "execution_count": null,
      "outputs": []
    },
    {
      "cell_type": "code",
      "source": [
        "import torch_geometric.utils as utils\n",
        "\n",
        "dataloader = DataLoader(graph_list, batch_size=batch_size, shuffle=True)\n",
        "\n",
        "# Initialize the VAE model and move it to the device\n",
        "# model = VAE().to(device)\n",
        "model = GraphAutoencoder(input_dim, hidden_dim, output_dim).to(device)\n",
        "\n",
        "# Define the optimizer for the VAE\n",
        "optimizer = torch.optim.Adam(model.parameters(), lr=1e-3)\n",
        "\n",
        "# Define the loss function for the VAE\n",
        "def loss_function(output, x):\n",
        "    # mean, logstd = output.z_mean, output.z_log_stddev\n",
        "    # mean, logstd = output, 0\n",
        "    # kl_loss = -0.5 * torch.sum(1 + logstd - mean.pow(2) - logstd.exp())\n",
        "    x_recon = output #.x_recon\n",
        "    recon_loss = F.mse_loss(x_recon, x)\n",
        "    loss = recon_loss # + kl_loss\n",
        "    return loss\n",
        "\n",
        "# Train the VAE model\n",
        "for epoch in range(num_epochs):\n",
        "    for batch in dataloader:\n",
        "        batch = batch.to(device)\n",
        "        optimizer.zero_grad()\n",
        "        # edge_index = utils.batched_edge_indices(batch.edge_index, batch.batch).to(device)\n",
        "        output = model(batch.x, batch.edge_index)\n",
        "        loss = loss_function(output, batch.x)\n",
        "        loss.backward()\n",
        "        optimizer.step()\n",
        "    print(f'Epoch {epoch+1}/{num_epochs}: Loss={loss.item()}')"
      ],
      "metadata": {
        "colab": {
          "base_uri": "https://localhost:8080/"
        },
        "id": "zV2GtNRWiB0v",
        "outputId": "5376fa22-1ac4-4f01-b10b-024a0b33d394"
      },
      "execution_count": null,
      "outputs": [
        {
          "metadata": {
            "tags": null
          },
          "name": "stderr",
          "output_type": "stream",
          "text": [
            "/usr/local/lib/python3.9/dist-packages/torch_geometric/deprecation.py:22: UserWarning: 'data.DataLoader' is deprecated, use 'loader.DataLoader' instead\n",
            "  warnings.warn(out)\n"
          ]
        },
        {
          "output_type": "stream",
          "name": "stdout",
          "text": [
            "Epoch 1/50: Loss=22752.716796875\n",
            "Epoch 2/50: Loss=11014923264.0\n",
            "Epoch 3/50: Loss=1707.9493408203125\n",
            "Epoch 4/50: Loss=2536870248448.0\n",
            "Epoch 5/50: Loss=1436.6904296875\n",
            "Epoch 6/50: Loss=1303.1873779296875\n",
            "Epoch 7/50: Loss=217741017481216.0\n",
            "Epoch 8/50: Loss=1449.9478759765625\n",
            "Epoch 9/50: Loss=1312.916748046875\n",
            "Epoch 10/50: Loss=1745.0675048828125\n",
            "Epoch 11/50: Loss=1216.617431640625\n",
            "Epoch 12/50: Loss=1563.6595458984375\n",
            "Epoch 13/50: Loss=1632.7408447265625\n",
            "Epoch 14/50: Loss=1084.971435546875\n",
            "Epoch 15/50: Loss=843358.5\n",
            "Epoch 16/50: Loss=1175.5943603515625\n",
            "Epoch 17/50: Loss=1212.5472412109375\n",
            "Epoch 18/50: Loss=1333.5699462890625\n",
            "Epoch 19/50: Loss=1222.5030517578125\n",
            "Epoch 20/50: Loss=1028.2706298828125\n",
            "Epoch 21/50: Loss=1422.88623046875\n",
            "Epoch 22/50: Loss=150983803928576.0\n",
            "Epoch 23/50: Loss=1173.6839599609375\n",
            "Epoch 24/50: Loss=1370.26513671875\n",
            "Epoch 25/50: Loss=1127.17333984375\n",
            "Epoch 26/50: Loss=1006.363037109375\n",
            "Epoch 27/50: Loss=1640.4342041015625\n",
            "Epoch 28/50: Loss=27435085070336.0\n",
            "Epoch 29/50: Loss=1010.6620483398438\n",
            "Epoch 30/50: Loss=1046.584716796875\n",
            "Epoch 31/50: Loss=954.4041137695312\n",
            "Epoch 32/50: Loss=1574.7421875\n",
            "Epoch 33/50: Loss=1344.345458984375\n",
            "Epoch 34/50: Loss=1167.2215576171875\n",
            "Epoch 35/50: Loss=1341.2034912109375\n",
            "Epoch 36/50: Loss=216571309981696.0\n",
            "Epoch 37/50: Loss=1282.71044921875\n",
            "Epoch 38/50: Loss=927.5888061523438\n",
            "Epoch 39/50: Loss=1386.8345947265625\n",
            "Epoch 40/50: Loss=1392.661865234375\n",
            "Epoch 41/50: Loss=304375104798720.0\n",
            "Epoch 42/50: Loss=1445.242919921875\n",
            "Epoch 43/50: Loss=1197.7222900390625\n",
            "Epoch 44/50: Loss=1086.015625\n",
            "Epoch 45/50: Loss=1285.741943359375\n",
            "Epoch 46/50: Loss=1958.22021484375\n",
            "Epoch 47/50: Loss=1905.4150390625\n",
            "Epoch 48/50: Loss=1098.900634765625\n",
            "Epoch 49/50: Loss=1073.2135009765625\n",
            "Epoch 50/50: Loss=1267.14208984375\n"
          ]
        }
      ]
    },
    {
      "cell_type": "code",
      "source": [
        "state_dict = model.state_dict()\n",
        "\n",
        "# Save the state dictionary to a file\n",
        "torch.save(state_dict, 'my_model.pt')"
      ],
      "metadata": {
        "id": "89fOj5OiRvJQ"
      },
      "execution_count": null,
      "outputs": []
    },
    {
      "cell_type": "code",
      "source": [
        "model = MyModel()\n",
        "\n",
        "# Load the saved state dictionary into the model\n",
        "state_dict = torch.load('my_model.pt')\n",
        "model.load_state_dict(state_dict)"
      ],
      "metadata": {
        "id": "6AyUmltYRwCp"
      },
      "execution_count": null,
      "outputs": []
    },
    {
      "cell_type": "markdown",
      "source": [
        "**Embed the graphs and save it:**"
      ],
      "metadata": {
        "id": "c1qnehgS4Qho"
      }
    },
    {
      "cell_type": "code",
      "source": [
        "# Embed the input graphs using the trained VAE\n",
        "embeddings = []\n",
        "\n",
        "for graph in graph_list:\n",
        "    graph = graph.to(device)\n",
        "    with torch.no_grad():\n",
        "        output = model.encoder(graph.x, graph.edge_index)\n",
        "    embeddings.append(output[0].cpu().numpy())\n",
        "\n",
        "np.save('embeddings.npy', embeddings)"
      ],
      "metadata": {
        "id": "VVg_Cda--xxO"
      },
      "execution_count": null,
      "outputs": []
    },
    {
      "cell_type": "code",
      "source": [
        "embeddings = np.array(embeddings)"
      ],
      "metadata": {
        "id": "yyP67ZeyVP86"
      },
      "execution_count": null,
      "outputs": []
    },
    {
      "cell_type": "markdown",
      "source": [
        "**Cluster the Graphs:**"
      ],
      "metadata": {
        "id": "160UBb3qL0-Z"
      }
    },
    {
      "cell_type": "code",
      "source": [
        "import numpy as np\n",
        "from sklearn.mixture import GaussianMixture\n",
        "\n",
        "# Load the embedded graph data\n",
        "# embeddings = np.load('embeddings.npy')\n",
        "\n",
        "# Set the number of clusters\n",
        "num_clusters = 10\n",
        "\n",
        "# Initialize the GMM model\n",
        "gmm = GaussianMixture(n_components=num_clusters)\n",
        "\n",
        "# Fit the GMM model to the embedded data\n",
        "gmm.fit(embeddings)\n",
        "\n",
        "# Predict the cluster labels for the embedded data\n",
        "cluster_labels = gmm.predict(embeddings)"
      ],
      "metadata": {
        "id": "UQM4JRCK4Q91"
      },
      "execution_count": null,
      "outputs": []
    }
  ]
}