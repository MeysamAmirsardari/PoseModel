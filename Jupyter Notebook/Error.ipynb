{
 "cells": [
  {
   "cell_type": "markdown",
   "metadata": {
    "collapsed": true,
    "pycharm": {
     "name": "#%% md\n"
    }
   },
   "source": [
    "Analyzing Networks:"
   ]
  },
  {
   "cell_type": "code",
   "execution_count": 1,
   "outputs": [],
   "source": [
    "import math\n",
    "import numpy as np\n",
    "from Evaluation.Comparator import applyThreshold, calculateManualError, calculatePredictionError\n",
    "from Evaluation.Evaluation import RMSE, PCK, AP\n",
    "from fileHandler import Landmark as lm, Landmark"
   ],
   "metadata": {
    "collapsed": false,
    "pycharm": {
     "name": "#%%\n"
    }
   }
  },
  {
   "cell_type": "code",
   "execution_count": 3,
   "outputs": [
    {
     "ename": "TypeError",
     "evalue": "array() missing required argument 'object' (pos 1)",
     "output_type": "error",
     "traceback": [
      "\u001B[1;31m---------------------------------------------------------------------------\u001B[0m",
      "\u001B[1;31mTypeError\u001B[0m                                 Traceback (most recent call last)",
      "\u001B[1;32m<ipython-input-3-f9b9903de743>\u001B[0m in \u001B[0;36m<module>\u001B[1;34m\u001B[0m\n\u001B[0;32m      4\u001B[0m \u001B[0mthresh\u001B[0m \u001B[1;33m=\u001B[0m \u001B[1;36m0.5\u001B[0m\u001B[1;33m\u001B[0m\u001B[1;33m\u001B[0m\u001B[0m\n\u001B[0;32m      5\u001B[0m \u001B[1;33m\u001B[0m\u001B[0m\n\u001B[1;32m----> 6\u001B[1;33m \u001B[0mmanuals\u001B[0m \u001B[1;33m=\u001B[0m \u001B[0mnp\u001B[0m\u001B[1;33m.\u001B[0m\u001B[0marray\u001B[0m\u001B[1;33m(\u001B[0m\u001B[1;33m)\u001B[0m\u001B[1;33m\u001B[0m\u001B[1;33m\u001B[0m\u001B[0m\n\u001B[0m\u001B[0;32m      7\u001B[0m \u001B[0mpredicted\u001B[0m \u001B[1;33m=\u001B[0m \u001B[0mnp\u001B[0m\u001B[1;33m.\u001B[0m\u001B[0marray\u001B[0m\u001B[1;33m(\u001B[0m\u001B[1;33m)\u001B[0m\u001B[1;33m\u001B[0m\u001B[1;33m\u001B[0m\u001B[0m\n\u001B[0;32m      8\u001B[0m \u001B[1;33m\u001B[0m\u001B[0m\n",
      "\u001B[1;31mTypeError\u001B[0m: array() missing required argument 'object' (pos 1)"
     ]
    }
   ],
   "source": [
    "predictedFileName = 'F:/DLC/Test6.1-MMM-2021-12-18/labeled-data/test1/CollectedData_MMM.csv'\n",
    "targetFileName = 'F:/DLC/Test6.1-MMM-2021-12-18/labeled-data/test1/CollectedData_MMM.csv'\n",
    "manualTestNum = 3\n",
    "thresh = 0.5\n",
    "\n",
    "manuals = np.array()\n",
    "predicted = np.array()\n",
    "\n",
    "for i in range(manualTestNum):\n",
    "    path = 'C:/Users/EMINENT/Desktop/manualTests/manualTest' + str(i) + '.csv'\n",
    "    manuals[i], targetFrameNames = lm.csvReader(path)\n",
    "\n",
    "predRows, predFrameNames = lm.csvReader(predictedFileName)\n",
    "targetRows, targetFrameNames = lm.csvReader(targetFileName)\n",
    "\n",
    "labelNames = lm.extractLabelNames(manuals[0, 1])\n",
    "\n",
    "targetTensor, targetScores = lm.landmark2array(targetRows)\n",
    "predTensor, predScores = lm.landmark2array(predRows)\n",
    "\n",
    "predArray = applyThreshold(predRows, thresh)\n",
    "frameIndexList = lm.extractFrameIndex(targetFrameNames)\n",
    "pred_RMSE = calculatePredictionError(predArray, targetTensor, frameIndexList)\n",
    "\n",
    "manual_RMSE = calculateManualError(manuals, 0)"
   ],
   "metadata": {
    "collapsed": false,
    "pycharm": {
     "name": "#%%\n"
    }
   }
  },
  {
   "cell_type": "markdown",
   "source": [
    "Averaged error of predicted (gray) and manual labeled (white) positions of each keypoint comparing with the ground truth positions. Error bars represent standard error of the mean (s.e.m).\n",
    "\n",
    "Plot:"
   ],
   "metadata": {
    "collapsed": false
   }
  },
  {
   "cell_type": "code",
   "execution_count": 2,
   "outputs": [
    {
     "data": {
      "text/plain": "<Figure size 432x288 with 1 Axes>",
      "image/png": "[encoded data removed]"
     },
     "metadata": {
      "needs_background": "light"
     },
     "output_type": "display_data"
    }
   ],
   "source": [
    "import matplotlib.pyplot as plt\n",
    "import numpy as np\n",
    "\n",
    "labels = ['nose', 'L_eye', 'R eye', 'L ear', 'R ear', 'L shoulder', 'R shoulder', 'L elbow',\n",
    "          'R elbow', 'L wrist', 'R wrist', 'L hip', 'R hip', 'L knee', 'R knee', 'L ankle',\n",
    "          'R ankle'] # = labelNames\n",
    "\n",
    "x = np.arange(len(labels))\n",
    "width = 0.35\n",
    "\n",
    "fig, ax = plt.subplots()\n",
    "rects1 = ax.bar(x - width/2, pred_RMSE, width, label='Prediction')\n",
    "rects2 = ax.bar(x + width/2, manual_RMSE, width, label='Manual annotation')\n",
    "\n",
    "ax.set_ylabel('Normalized Error')\n",
    "ax.set_title(' Averaged error of predicted')\n",
    "ax.set_xticks(x, labels)\n",
    "ax.legend()\n",
    "\n",
    "ax.bar_label(rects1, padding=3)\n",
    "ax.bar_label(rects2, padding=3)\n",
    "\n",
    "fig.tight_layout()\n",
    "\n",
    "plt.show()"
   ],
   "metadata": {
    "collapsed": false,
    "pycharm": {
     "name": "#%%\n"
    }
   }
  },
  {
   "cell_type": "markdown",
   "source": [
    "Plot PCK:"
   ],
   "metadata": {
    "collapsed": false
   }
  },
  {
   "cell_type": "code",
   "execution_count": null,
   "outputs": [],
   "source": [
    "pckList = []\n",
    "root = 'C:/Users/EMINENT/Desktop/networkOuts'\n",
    "targetFileName = root + 'target.csv'\n",
    "\n",
    "for i in range(7):\n",
    "    predictedFileName = root+'filtered'+str(i)+'.csv'\n",
    "    thresh = 0.5\n",
    "\n",
    "    predRows, predFrameNames = lm.csvReader(predictedFileName)\n",
    "    targetRows, targetFrameNames = lm.csvReader(targetFileName)\n",
    "\n",
    "    targetTensor, targetScores = lm.landmark2array(targetRows)\n",
    "    predTensor, predScores = lm.landmark2array(predRows)\n",
    "\n",
    "    e = 0.1\n",
    "    bb_width = math.sqrt((150^2)+(50^2))\n",
    "    pck = PCK(predTensor, targetTensor, bb_width, e)\n",
    "    pckList.append(pck)"
   ],
   "metadata": {
    "collapsed": false,
    "pycharm": {
     "name": "#%%\n"
    }
   }
  },
  {
   "cell_type": "markdown",
   "source": [
    "AP Error:"
   ],
   "metadata": {
    "collapsed": false,
    "pycharm": {
     "name": "#%% md\n"
    }
   }
  },
  {
   "cell_type": "code",
   "execution_count": null,
   "outputs": [],
   "source": [
    "apList = []\n",
    "root = 'C:/Users/EMINENT/Desktop/networkOuts'\n",
    "targetFileName = root + 'target.csv'\n",
    "e = 0.1\n",
    "bb_width = math.sqrt((150^2)+(50^2))\n",
    "k = 10\n",
    "\n",
    "for i in range(7):\n",
    "    predictedFileName = root+'filtered'+str(i)+'.csv'\n",
    "    thresh = 0.5\n",
    "\n",
    "    predRows, predFrameNames = lm.csvReader(predictedFileName)\n",
    "    targetRows, targetFrameNames = lm.csvReader(targetFileName)\n",
    "\n",
    "    targetTensor, targetScores = lm.landmark2array(targetRows)\n",
    "    predTensor, predScores = lm.landmark2array(predRows)\n",
    "\n",
    "    ap = AP(predTensor, targetTensor, bb_width, e, k)\n",
    "    apList.append(ap)"
   ],
   "metadata": {
    "collapsed": false,
    "pycharm": {
     "name": "#%%\n"
    }
   }
  },
  {
   "cell_type": "markdown",
   "source": [
    "Compare Networks:"
   ],
   "metadata": {
    "collapsed": false,
    "pycharm": {
     "name": "#%% md\n"
    }
   }
  },
  {
   "cell_type": "code",
   "execution_count": null,
   "outputs": [],
   "source": [
    "\n",
    "\n"
   ],
   "metadata": {
    "collapsed": false,
    "pycharm": {
     "name": "#%%\n"
    }
   }
  }
 ],
 "metadata": {
  "kernelspec": {
   "name": "python3",
   "language": "python",
   "display_name": "Python 3"
  },
  "language_info": {
   "codemirror_mode": {
    "name": "ipython",
    "version": 2
   },
   "file_extension": ".py",
   "mimetype": "text/x-python",
   "name": "python",
   "nbconvert_exporter": "python",
   "pygments_lexer": "ipython2",
   "version": "2.7.6"
  }
 },
 "nbformat": 4,
 "nbformat_minor": 0
}